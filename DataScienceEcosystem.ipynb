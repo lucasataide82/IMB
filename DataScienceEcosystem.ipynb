{
 "cells": [
  {
   "cell_type": "markdown",
   "id": "df4ad1e9-a1e3-44c8-ba53-5f73a947e085",
   "metadata": {},
   "source": [
    "<h1>Data Science Tools and Ecosystem</h1>"
   ]
  },
  {
   "cell_type": "markdown",
   "id": "2782f515-d2e6-437f-a31b-daf399bbb4b7",
   "metadata": {},
   "source": [
    "In this notebook, Data Science Tools and Ecosystem are summarized."
   ]
  },
  {
   "cell_type": "markdown",
   "id": "d2c102f8-2955-46c9-9304-5535f70db619",
   "metadata": {},
   "source": [
    "<strong>Objectives:</strong>\n",
    "\n",
    "* Open Source Tools for Data Science\n",
    "\n",
    "* Languages of Data Sciencei\n",
    "* Machine Learning Modelsl\n",
    "* Application Programming Interfaces</ul>"
   ]
  },
  {
   "cell_type": "markdown",
   "id": "185ae926-dad8-46af-b3e3-88ee32b1e561",
   "metadata": {},
   "source": [
    "Some of the popular languages that Data Scientists use are:\n",
    "<ol>\n",
    "  <li>Python</li>\n",
    "  <li>R</li>\n",
    "  <li>Julia</li>\n",
    "</ol>"
   ]
  },
  {
   "cell_type": "markdown",
   "id": "b7e75b0d-c55e-4645-baa5-335e1ac67024",
   "metadata": {},
   "source": [
    "Some of the commonly used libraries used by Data Scientists include:\n",
    "<ol>\n",
    "  <li>Numpy</li>\n",
    "  <li>Pandas</li>\n",
    "  <li>Matplolib</li>\n",
    "  <li>Seaborn</li>\n",
    "  <li>Scikit-Learn</li>\n",
    "</ol>"
   ]
  },
  {
   "cell_type": "markdown",
   "id": "338628d8-69bb-45c8-8ec0-b0fa27f89991",
   "metadata": {},
   "source": [
    "| Data Science Tools |\n",
    "| --- |\n",
    "| Jupyter Notebooks |\n",
    "| Zeppelin Notebooks |\n",
    "| R Studio’s |"
   ]
  },
  {
   "cell_type": "markdown",
   "id": "2f3d37c5-c66f-4330-8f2c-dfb3824480cf",
   "metadata": {},
   "source": [
    "<h3>Below are a few examples of evaluating arithmetic expressions in Python</h3>"
   ]
  },
  {
   "cell_type": "code",
   "execution_count": 8,
   "id": "49dfeba8-2fc9-4b7e-9593-63fc35ede710",
   "metadata": {},
   "outputs": [
    {
     "data": {
      "text/plain": [
       "17"
      ]
     },
     "execution_count": 8,
     "metadata": {},
     "output_type": "execute_result"
    }
   ],
   "source": [
    "#This a simple arithmetic expression to mutiply then add integers\n",
    "(3*4)+5"
   ]
  },
  {
   "cell_type": "code",
   "execution_count": 9,
   "id": "910da2fe-bdd2-4bdc-9cc9-7d5d8a381825",
   "metadata": {},
   "outputs": [
    {
     "data": {
      "text/plain": [
       "3.3333333333333335"
      ]
     },
     "execution_count": 9,
     "metadata": {},
     "output_type": "execute_result"
    }
   ],
   "source": [
    "#This will convert 200 minutes to hours by diving by 60\n",
    "h=200/60\n",
    "h"
   ]
  },
  {
   "cell_type": "markdown",
   "id": "d86c205c-7599-4a91-8847-e5e5188f1b60",
   "metadata": {},
   "source": [
    "<H2>Author</H2>\n",
    "Lucas"
   ]
  },
  {
   "cell_type": "code",
   "execution_count": null,
   "id": "c199e90b-8c92-472e-bba2-916e0031c62f",
   "metadata": {},
   "outputs": [],
   "source": []
  }
 ],
 "metadata": {
  "kernelspec": {
   "display_name": "Python 3 (ipykernel)",
   "language": "python",
   "name": "python3"
  },
  "language_info": {
   "codemirror_mode": {
    "name": "ipython",
    "version": 3
   },
   "file_extension": ".py",
   "mimetype": "text/x-python",
   "name": "python",
   "nbconvert_exporter": "python",
   "pygments_lexer": "ipython3",
   "version": "3.12.4"
  }
 },
 "nbformat": 4,
 "nbformat_minor": 5
}
